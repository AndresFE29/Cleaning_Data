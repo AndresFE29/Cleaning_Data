{
  "nbformat": 4,
  "nbformat_minor": 0,
  "metadata": {
    "colab": {
      "name": "DATA SCIENCE",
      "provenance": [],
      "authorship_tag": "ABX9TyMTnFBR18AORjrcgAiq/1hY",
      "include_colab_link": true
    },
    "kernelspec": {
      "name": "python3",
      "display_name": "Python 3"
    },
    "language_info": {
      "name": "python"
    }
  },
  "cells": [
    {
      "cell_type": "markdown",
      "metadata": {
        "id": "view-in-github",
        "colab_type": "text"
      },
      "source": [
        "<a href=\"https://colab.research.google.com/github/AndresFE29/Cleaning_Data/blob/main/DATA_SCIENCE.ipynb\" target=\"_parent\"><img src=\"https://colab.research.google.com/assets/colab-badge.svg\" alt=\"Open In Colab\"/></a>"
      ]
    },
    {
      "cell_type": "code",
      "execution_count": 2,
      "metadata": {
        "id": "AaNcu0SBHcUN"
      },
      "outputs": [],
      "source": [
        "import pandas as pd\n",
        "import numpy as np\n",
        "import seaborn as sns"
      ]
    },
    {
      "cell_type": "code",
      "source": [
        "print(\"Hola Mundo\")"
      ],
      "metadata": {
        "colab": {
          "base_uri": "https://localhost:8080/"
        },
        "id": "Cp5SGdp2NlWR",
        "outputId": "a73e2510-ec3f-4a3c-e017-408df26eae4c"
      },
      "execution_count": 4,
      "outputs": [
        {
          "output_type": "stream",
          "name": "stdout",
          "text": [
            "Hola Mundo\n"
          ]
        }
      ]
    },
    {
      "cell_type": "code",
      "source": [
        "\"Hola Mundo\""
      ],
      "metadata": {
        "colab": {
          "base_uri": "https://localhost:8080/",
          "height": 35
        },
        "id": "mVwpInWFN-V-",
        "outputId": "58d6fe91-2ddb-49fb-a762-0387896a62e6"
      },
      "execution_count": 6,
      "outputs": [
        {
          "output_type": "execute_result",
          "data": {
            "text/plain": [
              "'Hola Mundo'"
            ],
            "application/vnd.google.colaboratory.intrinsic+json": {
              "type": "string"
            }
          },
          "metadata": {},
          "execution_count": 6
        }
      ]
    },
    {
      "cell_type": "code",
      "source": [
        "a = \"Prueba de datos\"\n",
        "type(a)\n",
        "print(a)\n",
        "type(True)\n",
        "a.upper()\n",
        "a.lower()\n",
        "a.title()"
      ],
      "metadata": {
        "colab": {
          "base_uri": "https://localhost:8080/",
          "height": 53
        },
        "id": "vVNYG_P4OBQc",
        "outputId": "b9db04d5-b337-417e-a2f8-40991062aaa1"
      },
      "execution_count": 16,
      "outputs": [
        {
          "output_type": "stream",
          "name": "stdout",
          "text": [
            "Prueba de datos\n"
          ]
        },
        {
          "output_type": "execute_result",
          "data": {
            "text/plain": [
              "'Prueba De Datos'"
            ],
            "application/vnd.google.colaboratory.intrinsic+json": {
              "type": "string"
            }
          },
          "metadata": {},
          "execution_count": 16
        }
      ]
    },
    {
      "cell_type": "code",
      "source": [
        "noticia = (\"El Banco de México (Banxico) aún cuenta con espacio para reducir el ritmo de alza de tasas de interés, así lo consideró Gerardo Esquivel, subgobernador de la autoridad monetaria. A través de un podcast organizado por Banorte con motivo de la 85 Convención Bancaria, Esquivel indicó que en la última decisión de política monetaria todos los miembros de la Junta de Gobierno de Banxico decidieron elevar en 50 puntos base la tasa de interés de referencia para llegar al 6.5 por ciento actual debido al inicio del ciclo restrictivo de la Reserva Federal de Estados Unidos, así como el deterioro en las perspectivas inflacionarias y al impacto que está teniendo conflicto entre Rusia y Ucrania. “Parte de mi votación en esta ocasión y de mi voto se explica porque las condiciones un poco, digamos, si lo pusiéramos en esos términos diría que 25 puntos base como resultado de la postura relativa del Banco respecto a la Fed, 25 puntos base porque las condiciones mundiales se complicaron como resultado, entre la decisión anterior y esta, del conflicto bélico”, expresó. Esquivel indicó que Banxico tenía que acompañar a la Fed para evitar una reducción en el diferencial de tasas. En tanto, el Banco central de México puede tener más espacio para reducir el ritmo restrictivo que podrían tomar otros bancos centrales, incluida la Fed. “Nosotros creemos que no tenemos que ir en una dirección tan, quizá tan marcada hacia el alza en las tasas de interés y nosotros posiblemente tengamos un poco más de espacio para no tener que llevar la postura monetaria a una situación tan restrictiva como quizá otros países lo van a tener que hacer”, abundó. Detalló que con esta conducción de la política monetaria, en Banxico esperan que las presiones inflacionarias se disipen hacia finales del 2023, por lo que en el primer trimestre de 2024 el nivel general de precios convergerá hacia la meta del banco central, que es de 3 por ciento con un punto porcentual de diferencia.\")"
      ],
      "metadata": {
        "id": "okfpF20iQvZP"
      },
      "execution_count": 20,
      "outputs": []
    },
    {
      "cell_type": "code",
      "source": [
        "noticia.count(\"a\")"
      ],
      "metadata": {
        "colab": {
          "base_uri": "https://localhost:8080/"
        },
        "id": "TqmkTbiORSti",
        "outputId": "2d2904a7-3c73-43b1-8438-73d5fb623854"
      },
      "execution_count": 22,
      "outputs": [
        {
          "output_type": "execute_result",
          "data": {
            "text/plain": [
              "172"
            ]
          },
          "metadata": {},
          "execution_count": 22
        }
      ]
    },
    {
      "cell_type": "code",
      "source": [
        "noticia.count(\"tasas\")"
      ],
      "metadata": {
        "colab": {
          "base_uri": "https://localhost:8080/"
        },
        "id": "KbNNSksORZsI",
        "outputId": "92d84d09-937f-4549-a238-7dafef50dafe"
      },
      "execution_count": 27,
      "outputs": [
        {
          "output_type": "execute_result",
          "data": {
            "text/plain": [
              "3"
            ]
          },
          "metadata": {},
          "execution_count": 27
        }
      ]
    },
    {
      "cell_type": "code",
      "source": [
        "a.replace(\" \",\"/\")"
      ],
      "metadata": {
        "colab": {
          "base_uri": "https://localhost:8080/",
          "height": 35
        },
        "id": "Tz9BCzYSRjW3",
        "outputId": "f5472d1c-0a88-4b0e-d6e3-2e42be9e12bc"
      },
      "execution_count": 29,
      "outputs": [
        {
          "output_type": "execute_result",
          "data": {
            "text/plain": [
              "'Prueba/de/datos'"
            ],
            "application/vnd.google.colaboratory.intrinsic+json": {
              "type": "string"
            }
          },
          "metadata": {},
          "execution_count": 29
        }
      ]
    },
    {
      "cell_type": "code",
      "source": [
        "noticia.replace(\" \",\"/\")"
      ],
      "metadata": {
        "colab": {
          "base_uri": "https://localhost:8080/",
          "height": 174
        },
        "id": "Vcf-Q1QqRrbJ",
        "outputId": "193e8e88-43f9-4b5c-ab9d-397c7c3fe865"
      },
      "execution_count": 31,
      "outputs": [
        {
          "output_type": "execute_result",
          "data": {
            "text/plain": [
              "'El/Banco/de/México/(Banxico)/aún/cuenta/con/espacio/para/reducir/el/ritmo/de/alza/de/tasas/de/interés,/así/lo/consideró/Gerardo/Esquivel,/subgobernador/de/la/autoridad/monetaria./A/través/de/un/podcast/organizado/por/Banorte/con/motivo/de/la/85/Convención/Bancaria,/Esquivel/indicó/que/en/la/última/decisión/de/política/monetaria/todos/los/miembros/de/la/Junta/de/Gobierno/de/Banxico/decidieron/elevar/en/50/puntos/base/la/tasa/de/interés/de/referencia/para/llegar/al/6.5/por/ciento/actual/debido/al/inicio/del/ciclo/restrictivo/de/la/Reserva/Federal/de/Estados/Unidos,/así/como/el/deterioro/en/las/perspectivas/inflacionarias/y/al/impacto/que/está/teniendo/conflicto/entre/Rusia/y/Ucrania./“Parte/de/mi/votación/en/esta/ocasión/y/de/mi/voto/se/explica/porque/las/condiciones/un/poco,/digamos,/si/lo/pusiéramos/en/esos/términos/diría/que/25/puntos/base/como/resultado/de/la/postura/relativa/del/Banco/respecto/a/la/Fed,/25/puntos/base/porque/las/condiciones/mundiales/se/complicaron/como/resultado,/entre/la/decisión/anterior/y/esta,/del/conflicto/bélico”,/expresó./Esquivel/indicó/que/Banxico/tenía/que/acompañar/a/la/Fed/para/evitar/una/reducción/en/el/diferencial/de/tasas./En/tanto,/el/Banco/central/de/México/puede/tener/más/espacio/para/reducir/el/ritmo/restrictivo/que/podrían/tomar/otros/bancos/centrales,/incluida/la/Fed./“Nosotros/creemos/que/no/tenemos/que/ir/en/una/dirección/tan,/quizá/tan/marcada/hacia/el/alza/en/las/tasas/de/interés/y/nosotros/posiblemente/tengamos/un/poco/más/de/espacio/para/no/tener/que/llevar/la/postura/monetaria/a/una/situación/tan/restrictiva/como/quizá/otros/países/lo/van/a/tener/que/hacer”,/abundó./Detalló/que/con/esta/conducción/de/la/política/monetaria,/en/Banxico/esperan/que/las/presiones/inflacionarias/se/disipen/hacia/finales/del/2023,/por/lo/que/en/el/primer/trimestre/de/2024/el/nivel/general/de/precios/convergerá/hacia/la/meta/del/banco/central,/que/es/de/3/por/ciento/con/un/punto/porcentual/de/diferencia.'"
            ],
            "application/vnd.google.colaboratory.intrinsic+json": {
              "type": "string"
            }
          },
          "metadata": {},
          "execution_count": 31
        }
      ]
    },
    {
      "cell_type": "code",
      "source": [
        "noticia.replace(\"/\",\" \")"
      ],
      "metadata": {
        "colab": {
          "base_uri": "https://localhost:8080/",
          "height": 174
        },
        "id": "fHJUBD15RwaM",
        "outputId": "827bd31a-c438-4ad2-d037-a31dce13284e"
      },
      "execution_count": 33,
      "outputs": [
        {
          "output_type": "execute_result",
          "data": {
            "text/plain": [
              "'El Banco de México (Banxico) aún cuenta con espacio para reducir el ritmo de alza de tasas de interés, así lo consideró Gerardo Esquivel, subgobernador de la autoridad monetaria. A través de un podcast organizado por Banorte con motivo de la 85 Convención Bancaria, Esquivel indicó que en la última decisión de política monetaria todos los miembros de la Junta de Gobierno de Banxico decidieron elevar en 50 puntos base la tasa de interés de referencia para llegar al 6.5 por ciento actual debido al inicio del ciclo restrictivo de la Reserva Federal de Estados Unidos, así como el deterioro en las perspectivas inflacionarias y al impacto que está teniendo conflicto entre Rusia y Ucrania. “Parte de mi votación en esta ocasión y de mi voto se explica porque las condiciones un poco, digamos, si lo pusiéramos en esos términos diría que 25 puntos base como resultado de la postura relativa del Banco respecto a la Fed, 25 puntos base porque las condiciones mundiales se complicaron como resultado, entre la decisión anterior y esta, del conflicto bélico”, expresó. Esquivel indicó que Banxico tenía que acompañar a la Fed para evitar una reducción en el diferencial de tasas. En tanto, el Banco central de México puede tener más espacio para reducir el ritmo restrictivo que podrían tomar otros bancos centrales, incluida la Fed. “Nosotros creemos que no tenemos que ir en una dirección tan, quizá tan marcada hacia el alza en las tasas de interés y nosotros posiblemente tengamos un poco más de espacio para no tener que llevar la postura monetaria a una situación tan restrictiva como quizá otros países lo van a tener que hacer”, abundó. Detalló que con esta conducción de la política monetaria, en Banxico esperan que las presiones inflacionarias se disipen hacia finales del 2023, por lo que en el primer trimestre de 2024 el nivel general de precios convergerá hacia la meta del banco central, que es de 3 por ciento con un punto porcentual de diferencia.'"
            ],
            "application/vnd.google.colaboratory.intrinsic+json": {
              "type": "string"
            }
          },
          "metadata": {},
          "execution_count": 33
        }
      ]
    },
    {
      "cell_type": "code",
      "source": [
        "#Variables\n",
        "m1 = \"Aprendiendo python\""
      ],
      "metadata": {
        "id": "w8yebFWNR1Hg"
      },
      "execution_count": 35,
      "outputs": []
    },
    {
      "cell_type": "code",
      "source": [
        "m1"
      ],
      "metadata": {
        "colab": {
          "base_uri": "https://localhost:8080/",
          "height": 35
        },
        "id": "7r2Tx5BKWEzf",
        "outputId": "9e61f16e-cd3f-4c8e-de29-4860576164f2"
      },
      "execution_count": 37,
      "outputs": [
        {
          "output_type": "execute_result",
          "data": {
            "text/plain": [
              "'Aprendiendo python'"
            ],
            "application/vnd.google.colaboratory.intrinsic+json": {
              "type": "string"
            }
          },
          "metadata": {},
          "execution_count": 37
        }
      ]
    },
    {
      "cell_type": "code",
      "source": [
        "type(m1)\n",
        "\"I'm learning python\"\n",
        "'Aprendiendo python'"
      ],
      "metadata": {
        "colab": {
          "base_uri": "https://localhost:8080/",
          "height": 35
        },
        "id": "ZiKOYrORWHKE",
        "outputId": "56d29f61-ecf3-451c-fb54-814394b30df7"
      },
      "execution_count": 41,
      "outputs": [
        {
          "output_type": "execute_result",
          "data": {
            "text/plain": [
              "'Aprendiendo python'"
            ],
            "application/vnd.google.colaboratory.intrinsic+json": {
              "type": "string"
            }
          },
          "metadata": {},
          "execution_count": 41
        }
      ]
    },
    {
      "cell_type": "code",
      "source": [
        "m2=\" en el trabajo y con google\"\n",
        "m1 + m2\n"
      ],
      "metadata": {
        "colab": {
          "base_uri": "https://localhost:8080/",
          "height": 35
        },
        "id": "RCzj1FkJWcB5",
        "outputId": "c901a44c-c069-4496-d03c-ebccc0ec0bcb"
      },
      "execution_count": 46,
      "outputs": [
        {
          "output_type": "execute_result",
          "data": {
            "text/plain": [
              "'Aprendiendo python en el trabajo y con google'"
            ],
            "application/vnd.google.colaboratory.intrinsic+json": {
              "type": "string"
            }
          },
          "metadata": {},
          "execution_count": 46
        }
      ]
    },
    {
      "cell_type": "code",
      "source": [
        "f\"{m1}{m2}\""
      ],
      "metadata": {
        "colab": {
          "base_uri": "https://localhost:8080/",
          "height": 35
        },
        "id": "v3b-JH4oXQIw",
        "outputId": "7b7eac93-5470-4fd3-a265-690275ec5df6"
      },
      "execution_count": 51,
      "outputs": [
        {
          "output_type": "execute_result",
          "data": {
            "text/plain": [
              "'Aprendiendo python en el trabajo y con google'"
            ],
            "application/vnd.google.colaboratory.intrinsic+json": {
              "type": "string"
            }
          },
          "metadata": {},
          "execution_count": 51
        }
      ]
    },
    {
      "cell_type": "code",
      "source": [
        "#Las listas almacenan varios datos en un variable. Pueden cambiar su valor. Van dentro de corchetes y separados por comas.\n",
        "lista1=[\"mexico\",\"estados unidos\",\"china\",\"ecuador\",\"peru\",\"francia\"]\n",
        "lista1\n",
        "lista1[0]\n",
        "lista2=[1,2,3,4,5,6,7,8,9]\n",
        "lista2"
      ],
      "metadata": {
        "colab": {
          "base_uri": "https://localhost:8080/"
        },
        "id": "AcLmRYXcXlyy",
        "outputId": "2c512d46-13f2-40fb-ccdb-fef70b025230"
      },
      "execution_count": 124,
      "outputs": [
        {
          "output_type": "execute_result",
          "data": {
            "text/plain": [
              "[1, 2, 3, 4, 5, 6, 7, 8, 9]"
            ]
          },
          "metadata": {},
          "execution_count": 124
        }
      ]
    },
    {
      "cell_type": "code",
      "source": [
        "lis=[2,5]\n",
        "lista1.count(lis)"
      ],
      "metadata": {
        "colab": {
          "base_uri": "https://localhost:8080/"
        },
        "id": "ZWEGJiaxYNsG",
        "outputId": "409b173c-4d5f-4eea-82f6-a9f80e38c858"
      },
      "execution_count": 70,
      "outputs": [
        {
          "output_type": "execute_result",
          "data": {
            "text/plain": [
              "0"
            ]
          },
          "metadata": {},
          "execution_count": 70
        }
      ]
    },
    {
      "cell_type": "code",
      "source": [
        "#slicing\n",
        "lista1[1:4]"
      ],
      "metadata": {
        "colab": {
          "base_uri": "https://localhost:8080/"
        },
        "id": "nPeAWWqAY9LQ",
        "outputId": "3521c569-7048-4926-f8c4-ee7f6c64939e"
      },
      "execution_count": 73,
      "outputs": [
        {
          "output_type": "execute_result",
          "data": {
            "text/plain": [
              "['estados unidos', 'china', 'ecuador']"
            ]
          },
          "metadata": {},
          "execution_count": 73
        }
      ]
    },
    {
      "cell_type": "code",
      "source": [
        "lista2[1:8]"
      ],
      "metadata": {
        "colab": {
          "base_uri": "https://localhost:8080/"
        },
        "id": "cXUCJRqxZ8Vy",
        "outputId": "942f64ff-71dc-4f92-99ef-b80b2c61ca06"
      },
      "execution_count": 77,
      "outputs": [
        {
          "output_type": "execute_result",
          "data": {
            "text/plain": [
              "[2, 3, 4, 5, 6, 7, 8]"
            ]
          },
          "metadata": {},
          "execution_count": 77
        }
      ]
    },
    {
      "cell_type": "code",
      "source": [
        "lista2.append(10)\n",
        "lista2.insert(3,3.1416)\n",
        "lista2"
      ],
      "metadata": {
        "colab": {
          "base_uri": "https://localhost:8080/"
        },
        "id": "alI0hZ5WaF0c",
        "outputId": "7d9565c9-1722-4249-a1f0-c0cd00fc5df4"
      },
      "execution_count": 107,
      "outputs": [
        {
          "output_type": "execute_result",
          "data": {
            "text/plain": [
              "[1, 2, 3, 3.1416, 3.1416, 4, 5, 6, 7, 8, 9, 10, 10]"
            ]
          },
          "metadata": {},
          "execution_count": 107
        }
      ]
    },
    {
      "cell_type": "code",
      "source": [
        "lista1 + lista2"
      ],
      "metadata": {
        "colab": {
          "base_uri": "https://localhost:8080/"
        },
        "id": "mzv2iyQNqjuQ",
        "outputId": "fb3a74d6-db9e-44c4-fd1c-c62d0d67bcb1"
      },
      "execution_count": 109,
      "outputs": [
        {
          "output_type": "execute_result",
          "data": {
            "text/plain": [
              "['mexico',\n",
              " 'estados unidos',\n",
              " 'china',\n",
              " 'ecuador',\n",
              " 'peru',\n",
              " 'francia',\n",
              " 1,\n",
              " 2,\n",
              " 3,\n",
              " 3.1416,\n",
              " 3.1416,\n",
              " 4,\n",
              " 5,\n",
              " 6,\n",
              " 7,\n",
              " 8,\n",
              " 9,\n",
              " 10,\n",
              " 10]"
            ]
          },
          "metadata": {},
          "execution_count": 109
        }
      ]
    },
    {
      "cell_type": "code",
      "source": [
        "listaanidada=[lista1,lista2]\n",
        "listaanidada"
      ],
      "metadata": {
        "colab": {
          "base_uri": "https://localhost:8080/"
        },
        "id": "WsqLv4N8quqs",
        "outputId": "5ba8d5af-85f1-4cb8-ca4d-dca219366379"
      },
      "execution_count": 114,
      "outputs": [
        {
          "output_type": "execute_result",
          "data": {
            "text/plain": [
              "[['mexico', 'estados unidos', 'china', 'ecuador', 'peru', 'francia'],\n",
              " [1, 2, 3, 3.1416, 3.1416, 4, 5, 6, 7, 8, 9, 10, 10]]"
            ]
          },
          "metadata": {},
          "execution_count": 114
        }
      ]
    },
    {
      "cell_type": "code",
      "source": [
        "#eliminar elementos de una lista\n",
        "lista1.insert(1,\"estados unidos\")\n",
        "lista1.pop(2)\n",
        "lista1\n"
      ],
      "metadata": {
        "colab": {
          "base_uri": "https://localhost:8080/"
        },
        "id": "vyBhvtXvq5kJ",
        "outputId": "fe79170e-3728-410c-e419-6c2bdcd9b5d9"
      },
      "execution_count": 135,
      "outputs": [
        {
          "output_type": "execute_result",
          "data": {
            "text/plain": [
              "['mexico',\n",
              " 'estados unidos',\n",
              " 'estados unidos',\n",
              " 'estados unidos',\n",
              " 'estados unidos',\n",
              " 'china',\n",
              " 'ecuador',\n",
              " 'peru',\n",
              " 'francia']"
            ]
          },
          "metadata": {},
          "execution_count": 135
        }
      ]
    },
    {
      "cell_type": "code",
      "source": [
        "lista2"
      ],
      "metadata": {
        "colab": {
          "base_uri": "https://localhost:8080/"
        },
        "id": "c1kb0HI_siQ-",
        "outputId": "8f65fb9d-5f26-4ee4-cc2b-3335a08167b9"
      },
      "execution_count": 137,
      "outputs": [
        {
          "output_type": "execute_result",
          "data": {
            "text/plain": [
              "[1, 2, 3, 4, 5, 6, 7, 8, 9]"
            ]
          },
          "metadata": {},
          "execution_count": 137
        }
      ]
    },
    {
      "cell_type": "code",
      "source": [
        "lista3=[2,6,2,5,2,8,2,6,2,3,6,9,3]\n",
        "lista3.sort()\n",
        "lista3"
      ],
      "metadata": {
        "colab": {
          "base_uri": "https://localhost:8080/"
        },
        "id": "AGfLQ3j4tvLO",
        "outputId": "695e7a0f-7c6f-4682-b205-92b40f1a9e74"
      },
      "execution_count": 141,
      "outputs": [
        {
          "output_type": "execute_result",
          "data": {
            "text/plain": [
              "[2, 2, 2, 2, 2, 3, 3, 5, 6, 6, 6, 8, 9]"
            ]
          },
          "metadata": {},
          "execution_count": 141
        }
      ]
    },
    {
      "cell_type": "code",
      "source": [
        "lista3.sort(reverse=True)\n",
        "lista3"
      ],
      "metadata": {
        "colab": {
          "base_uri": "https://localhost:8080/"
        },
        "id": "M4vWiN2Yt7cb",
        "outputId": "487b3d7b-2689-4987-ad9d-b040cbf15f33"
      },
      "execution_count": 143,
      "outputs": [
        {
          "output_type": "execute_result",
          "data": {
            "text/plain": [
              "[9, 8, 6, 6, 6, 5, 3, 3, 2, 2, 2, 2, 2]"
            ]
          },
          "metadata": {},
          "execution_count": 143
        }
      ]
    },
    {
      "cell_type": "code",
      "source": [
        "lista3[0]=1000\n",
        "lista3"
      ],
      "metadata": {
        "colab": {
          "base_uri": "https://localhost:8080/"
        },
        "id": "WpHbSppmt_LU",
        "outputId": "932e93e1-e7f2-47e5-91a5-824e62c4032f"
      },
      "execution_count": 147,
      "outputs": [
        {
          "output_type": "execute_result",
          "data": {
            "text/plain": [
              "[1000, 8, 6, 6, 6, 5, 3, 3, 2, 2, 2, 2, 2]"
            ]
          },
          "metadata": {},
          "execution_count": 147
        }
      ]
    },
    {
      "cell_type": "code",
      "source": [
        "lista4=lista3[:]\n",
        "lista4"
      ],
      "metadata": {
        "colab": {
          "base_uri": "https://localhost:8080/"
        },
        "id": "XVbKC0Xau1AI",
        "outputId": "7db7d86b-272a-48d7-d861-94c312803080"
      },
      "execution_count": 149,
      "outputs": [
        {
          "output_type": "execute_result",
          "data": {
            "text/plain": [
              "[1000, 8, 6, 6, 6, 5, 3, 3, 2, 2, 2, 2, 2]"
            ]
          },
          "metadata": {},
          "execution_count": 149
        }
      ]
    },
    {
      "cell_type": "code",
      "source": [
        "#Diccionarios\n",
        "dicccionarios={\"key1\":\"valor1\",\"key2\":\"valor2\"}\n",
        "dic1={\"nombre\":\"andres\",\"edad\":\"25\",\"sexo\":\"masculino\"}"
      ],
      "metadata": {
        "id": "AjgLqO0ovmEA"
      },
      "execution_count": 151,
      "outputs": []
    },
    {
      "cell_type": "code",
      "source": [
        "dic1"
      ],
      "metadata": {
        "colab": {
          "base_uri": "https://localhost:8080/"
        },
        "id": "LHodZYrywIr8",
        "outputId": "848b6ae0-186a-4c1c-8733-1db880f0d38b"
      },
      "execution_count": 153,
      "outputs": [
        {
          "output_type": "execute_result",
          "data": {
            "text/plain": [
              "{'edad': '25', 'nombre': 'andres', 'sexo': 'masculino'}"
            ]
          },
          "metadata": {},
          "execution_count": 153
        }
      ]
    },
    {
      "cell_type": "code",
      "source": [
        "nombre=dic1[\"nombre\"]\n",
        "nom=nombre.upper()\n",
        "nom"
      ],
      "metadata": {
        "colab": {
          "base_uri": "https://localhost:8080/",
          "height": 35
        },
        "id": "M7dVY-r2wLQY",
        "outputId": "cc412535-ed86-41b6-e3d8-848c1f6b21d4"
      },
      "execution_count": 168,
      "outputs": [
        {
          "output_type": "execute_result",
          "data": {
            "text/plain": [
              "'ANDRES'"
            ],
            "application/vnd.google.colaboratory.intrinsic+json": {
              "type": "string"
            }
          },
          "metadata": {},
          "execution_count": 168
        }
      ]
    },
    {
      "cell_type": "code",
      "source": [
        "dic1.values()"
      ],
      "metadata": {
        "colab": {
          "base_uri": "https://localhost:8080/"
        },
        "id": "p5QdmDbRxO27",
        "outputId": "55b26e3f-f8a9-4a1f-d8f3-4c6a97277967"
      },
      "execution_count": 170,
      "outputs": [
        {
          "output_type": "execute_result",
          "data": {
            "text/plain": [
              "dict_values(['andres', '25', 'masculino'])"
            ]
          },
          "metadata": {},
          "execution_count": 170
        }
      ]
    },
    {
      "cell_type": "code",
      "source": [
        "dic1.keys()"
      ],
      "metadata": {
        "colab": {
          "base_uri": "https://localhost:8080/"
        },
        "id": "m2Vqx6m-0eS3",
        "outputId": "12b0ce27-fc12-4416-84ab-bf7909cbf8fc"
      },
      "execution_count": 172,
      "outputs": [
        {
          "output_type": "execute_result",
          "data": {
            "text/plain": [
              "dict_keys(['nombre', 'edad', 'sexo'])"
            ]
          },
          "metadata": {},
          "execution_count": 172
        }
      ]
    },
    {
      "cell_type": "code",
      "source": [
        "dic1.items()"
      ],
      "metadata": {
        "colab": {
          "base_uri": "https://localhost:8080/"
        },
        "id": "jWPh0Kn40g6q",
        "outputId": "e5d3c9aa-7996-485b-b90e-a44afaad769b"
      },
      "execution_count": 174,
      "outputs": [
        {
          "output_type": "execute_result",
          "data": {
            "text/plain": [
              "dict_items([('nombre', 'andres'), ('edad', '25'), ('sexo', 'masculino')])"
            ]
          },
          "metadata": {},
          "execution_count": 174
        }
      ]
    },
    {
      "cell_type": "code",
      "source": [
        "dic1[\"estatura\"]=1.73"
      ],
      "metadata": {
        "id": "sqYLACrd0mDF"
      },
      "execution_count": 176,
      "outputs": []
    },
    {
      "cell_type": "code",
      "source": [
        "dic1"
      ],
      "metadata": {
        "colab": {
          "base_uri": "https://localhost:8080/"
        },
        "id": "tRpUznyK039b",
        "outputId": "3bff23aa-d67c-400c-fe87-90823a40dec7"
      },
      "execution_count": 178,
      "outputs": [
        {
          "output_type": "execute_result",
          "data": {
            "text/plain": [
              "{'edad': '25', 'estatura': 1.73, 'nombre': 'andres', 'sexo': 'masculino'}"
            ]
          },
          "metadata": {},
          "execution_count": 178
        }
      ]
    },
    {
      "cell_type": "code",
      "source": [
        "#actualizar diccionario\n",
        "dic1.update({\"estatura\":1.8,\"idiomas\":[\"español\",\"ingles\"]})\n",
        "dic1"
      ],
      "metadata": {
        "colab": {
          "base_uri": "https://localhost:8080/"
        },
        "id": "SML8HHi705AK",
        "outputId": "d29f17b0-6d25-4626-fc8a-3aaec05fb6be"
      },
      "execution_count": 183,
      "outputs": [
        {
          "output_type": "execute_result",
          "data": {
            "text/plain": [
              "{'edad': '25',\n",
              " 'estatura': 1.8,\n",
              " 'idiomas': ['español', 'ingles'],\n",
              " 'nombre': 'andres',\n",
              " 'sexo': 'masculino'}"
            ]
          },
          "metadata": {},
          "execution_count": 183
        }
      ]
    },
    {
      "cell_type": "code",
      "source": [
        "copia=dic1.copy()\n",
        "copia\n",
        "copia[\"idiomas\"]\n",
        "copia.update({\"idiomas\":[\"español\"]})\n",
        "copia"
      ],
      "metadata": {
        "colab": {
          "base_uri": "https://localhost:8080/"
        },
        "id": "TfLjUcNZ18am",
        "outputId": "07fa6e60-63aa-4727-8223-f10d838ae151"
      },
      "execution_count": 193,
      "outputs": [
        {
          "output_type": "execute_result",
          "data": {
            "text/plain": [
              "{'edad': '25',\n",
              " 'estatura': 1.8,\n",
              " 'idiomas': ['español'],\n",
              " 'nombre': 'andres',\n",
              " 'sexo': 'masculino'}"
            ]
          },
          "metadata": {},
          "execution_count": 193
        }
      ]
    },
    {
      "cell_type": "code",
      "source": [
        "copia.pop(\"sexo\")"
      ],
      "metadata": {
        "colab": {
          "base_uri": "https://localhost:8080/",
          "height": 165
        },
        "id": "1ZfvjpLZ2f2l",
        "outputId": "40edcf49-c17e-4188-e365-13200e4e0e01"
      },
      "execution_count": 195,
      "outputs": [
        {
          "output_type": "error",
          "ename": "KeyError",
          "evalue": "ignored",
          "traceback": [
            "\u001b[0;31m---------------------------------------------------------------------------\u001b[0m",
            "\u001b[0;31mKeyError\u001b[0m                                  Traceback (most recent call last)",
            "\u001b[0;32m<ipython-input-195-6efc980dd653>\u001b[0m in \u001b[0;36m<module>\u001b[0;34m()\u001b[0m\n\u001b[0;32m----> 1\u001b[0;31m \u001b[0mcopia\u001b[0m\u001b[0;34m.\u001b[0m\u001b[0mpop\u001b[0m\u001b[0;34m(\u001b[0m\u001b[0;34m\"sexo\"\u001b[0m\u001b[0;34m)\u001b[0m\u001b[0;34m\u001b[0m\u001b[0;34m\u001b[0m\u001b[0m\n\u001b[0m",
            "\u001b[0;31mKeyError\u001b[0m: 'sexo'"
          ]
        }
      ]
    },
    {
      "cell_type": "code",
      "source": [
        "copia"
      ],
      "metadata": {
        "colab": {
          "base_uri": "https://localhost:8080/"
        },
        "id": "nPC6lUOr28Zu",
        "outputId": "30d8d9be-ffc9-4229-cf3a-b1bf7f531dda"
      },
      "execution_count": 197,
      "outputs": [
        {
          "output_type": "execute_result",
          "data": {
            "text/plain": [
              "{'edad': '25', 'estatura': 1.8, 'idiomas': ['español'], 'nombre': 'andres'}"
            ]
          },
          "metadata": {},
          "execution_count": 197
        }
      ]
    },
    {
      "cell_type": "code",
      "source": [
        "copia.clear()"
      ],
      "metadata": {
        "id": "OyyAy8mx3CZ5"
      },
      "execution_count": 199,
      "outputs": []
    },
    {
      "cell_type": "code",
      "source": [
        "copia"
      ],
      "metadata": {
        "colab": {
          "base_uri": "https://localhost:8080/"
        },
        "id": "sKZSonrm3EAV",
        "outputId": "f123df80-3850-425d-8520-39fc25fbfa05"
      },
      "execution_count": 201,
      "outputs": [
        {
          "output_type": "execute_result",
          "data": {
            "text/plain": [
              "{}"
            ]
          },
          "metadata": {},
          "execution_count": 201
        }
      ]
    },
    {
      "cell_type": "code",
      "source": [
        "#Condicional IF\n",
        "#if <condition>:\n",
        "#  <code>\n",
        "#elif <condition>:\n",
        "#  <code>\n",
        "#...\n",
        "#else:\n",
        "#  <code>"
      ],
      "metadata": {
        "id": "wgSJ1ny13IKL"
      },
      "execution_count": 207,
      "outputs": []
    },
    {
      "cell_type": "code",
      "source": [
        "edad=45\n",
        "if edad>=18:\n",
        "  print(\"Mayor de edad\")\n",
        "elif edad>=13:\n",
        "  print(\"Adolescente\")\n",
        "else:\n",
        "  print(\"menor de edad\")\n"
      ],
      "metadata": {
        "colab": {
          "base_uri": "https://localhost:8080/"
        },
        "id": "yJaUm3mv30Sd",
        "outputId": "42d0d72a-0031-4036-933d-9992d79b2002"
      },
      "execution_count": 216,
      "outputs": [
        {
          "output_type": "stream",
          "name": "stdout",
          "text": [
            "Mayor de edad\n"
          ]
        }
      ]
    },
    {
      "cell_type": "code",
      "source": [
        "lista1.remove(\"estados unidos\")"
      ],
      "metadata": {
        "id": "mDR-gNGn5Eo4"
      },
      "execution_count": 219,
      "outputs": []
    },
    {
      "cell_type": "code",
      "source": [
        "lista1"
      ],
      "metadata": {
        "colab": {
          "base_uri": "https://localhost:8080/"
        },
        "id": "Vq6gkGOV5Kbg",
        "outputId": "37f0c46b-270e-43f3-b24e-d900cd468ddc"
      },
      "execution_count": 221,
      "outputs": [
        {
          "output_type": "execute_result",
          "data": {
            "text/plain": [
              "['mexico',\n",
              " 'estados unidos',\n",
              " 'estados unidos',\n",
              " 'china',\n",
              " 'ecuador',\n",
              " 'peru',\n",
              " 'francia']"
            ]
          },
          "metadata": {},
          "execution_count": 221
        }
      ]
    },
    {
      "cell_type": "code",
      "source": [
        "lista1.pop(2)"
      ],
      "metadata": {
        "colab": {
          "base_uri": "https://localhost:8080/",
          "height": 35
        },
        "id": "481IARyM5MkF",
        "outputId": "9e7b44bc-6a69-47fb-ca5c-b2ca22b5604e"
      },
      "execution_count": 223,
      "outputs": [
        {
          "output_type": "execute_result",
          "data": {
            "text/plain": [
              "'china'"
            ],
            "application/vnd.google.colaboratory.intrinsic+json": {
              "type": "string"
            }
          },
          "metadata": {},
          "execution_count": 223
        }
      ]
    },
    {
      "cell_type": "code",
      "source": [
        "lista1"
      ],
      "metadata": {
        "colab": {
          "base_uri": "https://localhost:8080/"
        },
        "id": "H3JZ_tvx5PD_",
        "outputId": "6584ac6e-850b-4dbe-c300-b7293e49411f"
      },
      "execution_count": 225,
      "outputs": [
        {
          "output_type": "execute_result",
          "data": {
            "text/plain": [
              "['mexico', 'estados unidos', 'ecuador', 'peru', 'francia']"
            ]
          },
          "metadata": {},
          "execution_count": 225
        }
      ]
    },
    {
      "cell_type": "code",
      "source": [
        "lista1.insert(2,\"china\")"
      ],
      "metadata": {
        "id": "n4n9c4En5Rhr"
      },
      "execution_count": 226,
      "outputs": []
    },
    {
      "cell_type": "code",
      "source": [
        "lista1"
      ],
      "metadata": {
        "colab": {
          "base_uri": "https://localhost:8080/"
        },
        "id": "z_RSRLiL5U37",
        "outputId": "8ef5e318-670f-4688-8482-2f8dbd62e97a"
      },
      "execution_count": 227,
      "outputs": [
        {
          "output_type": "execute_result",
          "data": {
            "text/plain": [
              "['mexico', 'estados unidos', 'china', 'ecuador', 'peru', 'francia']"
            ]
          },
          "metadata": {},
          "execution_count": 227
        }
      ]
    },
    {
      "cell_type": "code",
      "source": [
        "if \"peru\" in lista1:\n",
        "  print(\"encontrado\")\n",
        "else:\n",
        "  print(\"no encontrado\")"
      ],
      "metadata": {
        "colab": {
          "base_uri": "https://localhost:8080/"
        },
        "id": "yv-07qIt5Vhx",
        "outputId": "b33ed6ca-b7cf-4045-b490-d2473dc1ad0a"
      },
      "execution_count": 232,
      "outputs": [
        {
          "output_type": "stream",
          "name": "stdout",
          "text": [
            "encontrado\n"
          ]
        }
      ]
    },
    {
      "cell_type": "code",
      "source": [
        "#Bucle for\n",
        "#for <variable> in <list>:\n",
        "#<code>\n"
      ],
      "metadata": {
        "id": "mqgqa24u5slA"
      },
      "execution_count": 233,
      "outputs": []
    },
    {
      "cell_type": "code",
      "source": [
        "for i in lista1:\n",
        "  print(i.title())"
      ],
      "metadata": {
        "colab": {
          "base_uri": "https://localhost:8080/"
        },
        "id": "5qNLsWo156H9",
        "outputId": "ac976926-0161-44b4-9586-85e112ba2913"
      },
      "execution_count": 237,
      "outputs": [
        {
          "output_type": "stream",
          "name": "stdout",
          "text": [
            "Mexico\n",
            "Estados Unidos\n",
            "China\n",
            "Ecuador\n",
            "Peru\n",
            "Francia\n"
          ]
        }
      ]
    },
    {
      "cell_type": "code",
      "source": [
        "for i in lista1:\n",
        "  if i==\"estados unidos\":\n",
        "    print(i)\n",
        "  else:\n",
        "    print(\"Diferente\")"
      ],
      "metadata": {
        "colab": {
          "base_uri": "https://localhost:8080/"
        },
        "id": "L1DAOspa6T1X",
        "outputId": "c82b6c74-255c-4648-a071-15d8393cacf4"
      },
      "execution_count": 244,
      "outputs": [
        {
          "output_type": "stream",
          "name": "stdout",
          "text": [
            "Diferente\n",
            "estados unidos\n",
            "Diferente\n",
            "Diferente\n",
            "Diferente\n",
            "Diferente\n"
          ]
        }
      ]
    },
    {
      "cell_type": "code",
      "source": [
        "for i,x in enumerate(lista1):\n",
        "  print(i)\n",
        "  print(x)"
      ],
      "metadata": {
        "colab": {
          "base_uri": "https://localhost:8080/"
        },
        "id": "9gE1gQqc7EQp",
        "outputId": "59bc9859-943b-4284-835a-14e266a7919f"
      },
      "execution_count": 246,
      "outputs": [
        {
          "output_type": "stream",
          "name": "stdout",
          "text": [
            "0\n",
            "mexico\n",
            "1\n",
            "estados unidos\n",
            "2\n",
            "china\n",
            "3\n",
            "ecuador\n",
            "4\n",
            "peru\n",
            "5\n",
            "francia\n"
          ]
        }
      ]
    },
    {
      "cell_type": "code",
      "source": [
        "dic1"
      ],
      "metadata": {
        "colab": {
          "base_uri": "https://localhost:8080/"
        },
        "id": "g8LBbtS17-rL",
        "outputId": "eeb44988-f7cc-43a3-959d-c4f266e25aa9"
      },
      "execution_count": 247,
      "outputs": [
        {
          "output_type": "execute_result",
          "data": {
            "text/plain": [
              "{'edad': '25',\n",
              " 'estatura': 1.8,\n",
              " 'idiomas': ['español', 'ingles'],\n",
              " 'nombre': 'andres',\n",
              " 'sexo': 'masculino'}"
            ]
          },
          "metadata": {},
          "execution_count": 247
        }
      ]
    },
    {
      "cell_type": "code",
      "source": [
        "dic1.items()"
      ],
      "metadata": {
        "colab": {
          "base_uri": "https://localhost:8080/"
        },
        "id": "Hz5gzUZO7_4l",
        "outputId": "908e47ca-198c-4f31-b4a2-2105e99b65c0"
      },
      "execution_count": 258,
      "outputs": [
        {
          "output_type": "execute_result",
          "data": {
            "text/plain": [
              "dict_items([('nombre', 'andres'), ('edad', '25'), ('sexo', 'masculino'), ('estatura', 1.8), ('idiomas', ['español', 'ingles'])])"
            ]
          },
          "metadata": {},
          "execution_count": 258
        }
      ]
    },
    {
      "cell_type": "code",
      "source": [
        "\n",
        "for  a, b in dic1.items():\n",
        "  print(a)\n",
        "  print(b)"
      ],
      "metadata": {
        "colab": {
          "base_uri": "https://localhost:8080/"
        },
        "id": "irCx78Wv8Mth",
        "outputId": "452cd33a-bfd8-43cc-d1bc-b9ac4eb43b9b"
      },
      "execution_count": 266,
      "outputs": [
        {
          "output_type": "stream",
          "name": "stdout",
          "text": [
            "nombre\n",
            "andres\n",
            "edad\n",
            "25\n",
            "sexo\n",
            "masculino\n",
            "estatura\n",
            "1.8\n",
            "idiomas\n",
            "['español', 'ingles']\n"
          ]
        }
      ]
    },
    {
      "cell_type": "code",
      "source": [
        "#FUNCIONES\n",
        "len(lista1)\n",
        "len(dic1)\n",
        "max(lista4)"
      ],
      "metadata": {
        "colab": {
          "base_uri": "https://localhost:8080/"
        },
        "id": "YwkPsDtU-A98",
        "outputId": "f556747f-ca6d-4d13-cfd8-8a71be8d5d9c"
      },
      "execution_count": 271,
      "outputs": [
        {
          "output_type": "execute_result",
          "data": {
            "text/plain": [
              "1000"
            ]
          },
          "metadata": {},
          "execution_count": 271
        }
      ]
    },
    {
      "cell_type": "code",
      "source": [
        "for i in range(1,1000,1):\n",
        "  print(i)"
      ],
      "metadata": {
        "colab": {
          "base_uri": "https://localhost:8080/"
        },
        "id": "QjaOszpw-c4a",
        "outputId": "23e43895-2303-453b-8cf8-63a4f11a0555"
      },
      "execution_count": 275,
      "outputs": [
        {
          "output_type": "stream",
          "name": "stdout",
          "text": [
            "1\n",
            "2\n",
            "3\n",
            "4\n",
            "5\n",
            "6\n",
            "7\n",
            "8\n",
            "9\n",
            "10\n",
            "11\n",
            "12\n",
            "13\n",
            "14\n",
            "15\n",
            "16\n",
            "17\n",
            "18\n",
            "19\n",
            "20\n",
            "21\n",
            "22\n",
            "23\n",
            "24\n",
            "25\n",
            "26\n",
            "27\n",
            "28\n",
            "29\n",
            "30\n",
            "31\n",
            "32\n",
            "33\n",
            "34\n",
            "35\n",
            "36\n",
            "37\n",
            "38\n",
            "39\n",
            "40\n",
            "41\n",
            "42\n",
            "43\n",
            "44\n",
            "45\n",
            "46\n",
            "47\n",
            "48\n",
            "49\n",
            "50\n",
            "51\n",
            "52\n",
            "53\n",
            "54\n",
            "55\n",
            "56\n",
            "57\n",
            "58\n",
            "59\n",
            "60\n",
            "61\n",
            "62\n",
            "63\n",
            "64\n",
            "65\n",
            "66\n",
            "67\n",
            "68\n",
            "69\n",
            "70\n",
            "71\n",
            "72\n",
            "73\n",
            "74\n",
            "75\n",
            "76\n",
            "77\n",
            "78\n",
            "79\n",
            "80\n",
            "81\n",
            "82\n",
            "83\n",
            "84\n",
            "85\n",
            "86\n",
            "87\n",
            "88\n",
            "89\n",
            "90\n",
            "91\n",
            "92\n",
            "93\n",
            "94\n",
            "95\n",
            "96\n",
            "97\n",
            "98\n",
            "99\n",
            "100\n",
            "101\n",
            "102\n",
            "103\n",
            "104\n",
            "105\n",
            "106\n",
            "107\n",
            "108\n",
            "109\n",
            "110\n",
            "111\n",
            "112\n",
            "113\n",
            "114\n",
            "115\n",
            "116\n",
            "117\n",
            "118\n",
            "119\n",
            "120\n",
            "121\n",
            "122\n",
            "123\n",
            "124\n",
            "125\n",
            "126\n",
            "127\n",
            "128\n",
            "129\n",
            "130\n",
            "131\n",
            "132\n",
            "133\n",
            "134\n",
            "135\n",
            "136\n",
            "137\n",
            "138\n",
            "139\n",
            "140\n",
            "141\n",
            "142\n",
            "143\n",
            "144\n",
            "145\n",
            "146\n",
            "147\n",
            "148\n",
            "149\n",
            "150\n",
            "151\n",
            "152\n",
            "153\n",
            "154\n",
            "155\n",
            "156\n",
            "157\n",
            "158\n",
            "159\n",
            "160\n",
            "161\n",
            "162\n",
            "163\n",
            "164\n",
            "165\n",
            "166\n",
            "167\n",
            "168\n",
            "169\n",
            "170\n",
            "171\n",
            "172\n",
            "173\n",
            "174\n",
            "175\n",
            "176\n",
            "177\n",
            "178\n",
            "179\n",
            "180\n",
            "181\n",
            "182\n",
            "183\n",
            "184\n",
            "185\n",
            "186\n",
            "187\n",
            "188\n",
            "189\n",
            "190\n",
            "191\n",
            "192\n",
            "193\n",
            "194\n",
            "195\n",
            "196\n",
            "197\n",
            "198\n",
            "199\n",
            "200\n",
            "201\n",
            "202\n",
            "203\n",
            "204\n",
            "205\n",
            "206\n",
            "207\n",
            "208\n",
            "209\n",
            "210\n",
            "211\n",
            "212\n",
            "213\n",
            "214\n",
            "215\n",
            "216\n",
            "217\n",
            "218\n",
            "219\n",
            "220\n",
            "221\n",
            "222\n",
            "223\n",
            "224\n",
            "225\n",
            "226\n",
            "227\n",
            "228\n",
            "229\n",
            "230\n",
            "231\n",
            "232\n",
            "233\n",
            "234\n",
            "235\n",
            "236\n",
            "237\n",
            "238\n",
            "239\n",
            "240\n",
            "241\n",
            "242\n",
            "243\n",
            "244\n",
            "245\n",
            "246\n",
            "247\n",
            "248\n",
            "249\n",
            "250\n",
            "251\n",
            "252\n",
            "253\n",
            "254\n",
            "255\n",
            "256\n",
            "257\n",
            "258\n",
            "259\n",
            "260\n",
            "261\n",
            "262\n",
            "263\n",
            "264\n",
            "265\n",
            "266\n",
            "267\n",
            "268\n",
            "269\n",
            "270\n",
            "271\n",
            "272\n",
            "273\n",
            "274\n",
            "275\n",
            "276\n",
            "277\n",
            "278\n",
            "279\n",
            "280\n",
            "281\n",
            "282\n",
            "283\n",
            "284\n",
            "285\n",
            "286\n",
            "287\n",
            "288\n",
            "289\n",
            "290\n",
            "291\n",
            "292\n",
            "293\n",
            "294\n",
            "295\n",
            "296\n",
            "297\n",
            "298\n",
            "299\n",
            "300\n",
            "301\n",
            "302\n",
            "303\n",
            "304\n",
            "305\n",
            "306\n",
            "307\n",
            "308\n",
            "309\n",
            "310\n",
            "311\n",
            "312\n",
            "313\n",
            "314\n",
            "315\n",
            "316\n",
            "317\n",
            "318\n",
            "319\n",
            "320\n",
            "321\n",
            "322\n",
            "323\n",
            "324\n",
            "325\n",
            "326\n",
            "327\n",
            "328\n",
            "329\n",
            "330\n",
            "331\n",
            "332\n",
            "333\n",
            "334\n",
            "335\n",
            "336\n",
            "337\n",
            "338\n",
            "339\n",
            "340\n",
            "341\n",
            "342\n",
            "343\n",
            "344\n",
            "345\n",
            "346\n",
            "347\n",
            "348\n",
            "349\n",
            "350\n",
            "351\n",
            "352\n",
            "353\n",
            "354\n",
            "355\n",
            "356\n",
            "357\n",
            "358\n",
            "359\n",
            "360\n",
            "361\n",
            "362\n",
            "363\n",
            "364\n",
            "365\n",
            "366\n",
            "367\n",
            "368\n",
            "369\n",
            "370\n",
            "371\n",
            "372\n",
            "373\n",
            "374\n",
            "375\n",
            "376\n",
            "377\n",
            "378\n",
            "379\n",
            "380\n",
            "381\n",
            "382\n",
            "383\n",
            "384\n",
            "385\n",
            "386\n",
            "387\n",
            "388\n",
            "389\n",
            "390\n",
            "391\n",
            "392\n",
            "393\n",
            "394\n",
            "395\n",
            "396\n",
            "397\n",
            "398\n",
            "399\n",
            "400\n",
            "401\n",
            "402\n",
            "403\n",
            "404\n",
            "405\n",
            "406\n",
            "407\n",
            "408\n",
            "409\n",
            "410\n",
            "411\n",
            "412\n",
            "413\n",
            "414\n",
            "415\n",
            "416\n",
            "417\n",
            "418\n",
            "419\n",
            "420\n",
            "421\n",
            "422\n",
            "423\n",
            "424\n",
            "425\n",
            "426\n",
            "427\n",
            "428\n",
            "429\n",
            "430\n",
            "431\n",
            "432\n",
            "433\n",
            "434\n",
            "435\n",
            "436\n",
            "437\n",
            "438\n",
            "439\n",
            "440\n",
            "441\n",
            "442\n",
            "443\n",
            "444\n",
            "445\n",
            "446\n",
            "447\n",
            "448\n",
            "449\n",
            "450\n",
            "451\n",
            "452\n",
            "453\n",
            "454\n",
            "455\n",
            "456\n",
            "457\n",
            "458\n",
            "459\n",
            "460\n",
            "461\n",
            "462\n",
            "463\n",
            "464\n",
            "465\n",
            "466\n",
            "467\n",
            "468\n",
            "469\n",
            "470\n",
            "471\n",
            "472\n",
            "473\n",
            "474\n",
            "475\n",
            "476\n",
            "477\n",
            "478\n",
            "479\n",
            "480\n",
            "481\n",
            "482\n",
            "483\n",
            "484\n",
            "485\n",
            "486\n",
            "487\n",
            "488\n",
            "489\n",
            "490\n",
            "491\n",
            "492\n",
            "493\n",
            "494\n",
            "495\n",
            "496\n",
            "497\n",
            "498\n",
            "499\n",
            "500\n",
            "501\n",
            "502\n",
            "503\n",
            "504\n",
            "505\n",
            "506\n",
            "507\n",
            "508\n",
            "509\n",
            "510\n",
            "511\n",
            "512\n",
            "513\n",
            "514\n",
            "515\n",
            "516\n",
            "517\n",
            "518\n",
            "519\n",
            "520\n",
            "521\n",
            "522\n",
            "523\n",
            "524\n",
            "525\n",
            "526\n",
            "527\n",
            "528\n",
            "529\n",
            "530\n",
            "531\n",
            "532\n",
            "533\n",
            "534\n",
            "535\n",
            "536\n",
            "537\n",
            "538\n",
            "539\n",
            "540\n",
            "541\n",
            "542\n",
            "543\n",
            "544\n",
            "545\n",
            "546\n",
            "547\n",
            "548\n",
            "549\n",
            "550\n",
            "551\n",
            "552\n",
            "553\n",
            "554\n",
            "555\n",
            "556\n",
            "557\n",
            "558\n",
            "559\n",
            "560\n",
            "561\n",
            "562\n",
            "563\n",
            "564\n",
            "565\n",
            "566\n",
            "567\n",
            "568\n",
            "569\n",
            "570\n",
            "571\n",
            "572\n",
            "573\n",
            "574\n",
            "575\n",
            "576\n",
            "577\n",
            "578\n",
            "579\n",
            "580\n",
            "581\n",
            "582\n",
            "583\n",
            "584\n",
            "585\n",
            "586\n",
            "587\n",
            "588\n",
            "589\n",
            "590\n",
            "591\n",
            "592\n",
            "593\n",
            "594\n",
            "595\n",
            "596\n",
            "597\n",
            "598\n",
            "599\n",
            "600\n",
            "601\n",
            "602\n",
            "603\n",
            "604\n",
            "605\n",
            "606\n",
            "607\n",
            "608\n",
            "609\n",
            "610\n",
            "611\n",
            "612\n",
            "613\n",
            "614\n",
            "615\n",
            "616\n",
            "617\n",
            "618\n",
            "619\n",
            "620\n",
            "621\n",
            "622\n",
            "623\n",
            "624\n",
            "625\n",
            "626\n",
            "627\n",
            "628\n",
            "629\n",
            "630\n",
            "631\n",
            "632\n",
            "633\n",
            "634\n",
            "635\n",
            "636\n",
            "637\n",
            "638\n",
            "639\n",
            "640\n",
            "641\n",
            "642\n",
            "643\n",
            "644\n",
            "645\n",
            "646\n",
            "647\n",
            "648\n",
            "649\n",
            "650\n",
            "651\n",
            "652\n",
            "653\n",
            "654\n",
            "655\n",
            "656\n",
            "657\n",
            "658\n",
            "659\n",
            "660\n",
            "661\n",
            "662\n",
            "663\n",
            "664\n",
            "665\n",
            "666\n",
            "667\n",
            "668\n",
            "669\n",
            "670\n",
            "671\n",
            "672\n",
            "673\n",
            "674\n",
            "675\n",
            "676\n",
            "677\n",
            "678\n",
            "679\n",
            "680\n",
            "681\n",
            "682\n",
            "683\n",
            "684\n",
            "685\n",
            "686\n",
            "687\n",
            "688\n",
            "689\n",
            "690\n",
            "691\n",
            "692\n",
            "693\n",
            "694\n",
            "695\n",
            "696\n",
            "697\n",
            "698\n",
            "699\n",
            "700\n",
            "701\n",
            "702\n",
            "703\n",
            "704\n",
            "705\n",
            "706\n",
            "707\n",
            "708\n",
            "709\n",
            "710\n",
            "711\n",
            "712\n",
            "713\n",
            "714\n",
            "715\n",
            "716\n",
            "717\n",
            "718\n",
            "719\n",
            "720\n",
            "721\n",
            "722\n",
            "723\n",
            "724\n",
            "725\n",
            "726\n",
            "727\n",
            "728\n",
            "729\n",
            "730\n",
            "731\n",
            "732\n",
            "733\n",
            "734\n",
            "735\n",
            "736\n",
            "737\n",
            "738\n",
            "739\n",
            "740\n",
            "741\n",
            "742\n",
            "743\n",
            "744\n",
            "745\n",
            "746\n",
            "747\n",
            "748\n",
            "749\n",
            "750\n",
            "751\n",
            "752\n",
            "753\n",
            "754\n",
            "755\n",
            "756\n",
            "757\n",
            "758\n",
            "759\n",
            "760\n",
            "761\n",
            "762\n",
            "763\n",
            "764\n",
            "765\n",
            "766\n",
            "767\n",
            "768\n",
            "769\n",
            "770\n",
            "771\n",
            "772\n",
            "773\n",
            "774\n",
            "775\n",
            "776\n",
            "777\n",
            "778\n",
            "779\n",
            "780\n",
            "781\n",
            "782\n",
            "783\n",
            "784\n",
            "785\n",
            "786\n",
            "787\n",
            "788\n",
            "789\n",
            "790\n",
            "791\n",
            "792\n",
            "793\n",
            "794\n",
            "795\n",
            "796\n",
            "797\n",
            "798\n",
            "799\n",
            "800\n",
            "801\n",
            "802\n",
            "803\n",
            "804\n",
            "805\n",
            "806\n",
            "807\n",
            "808\n",
            "809\n",
            "810\n",
            "811\n",
            "812\n",
            "813\n",
            "814\n",
            "815\n",
            "816\n",
            "817\n",
            "818\n",
            "819\n",
            "820\n",
            "821\n",
            "822\n",
            "823\n",
            "824\n",
            "825\n",
            "826\n",
            "827\n",
            "828\n",
            "829\n",
            "830\n",
            "831\n",
            "832\n",
            "833\n",
            "834\n",
            "835\n",
            "836\n",
            "837\n",
            "838\n",
            "839\n",
            "840\n",
            "841\n",
            "842\n",
            "843\n",
            "844\n",
            "845\n",
            "846\n",
            "847\n",
            "848\n",
            "849\n",
            "850\n",
            "851\n",
            "852\n",
            "853\n",
            "854\n",
            "855\n",
            "856\n",
            "857\n",
            "858\n",
            "859\n",
            "860\n",
            "861\n",
            "862\n",
            "863\n",
            "864\n",
            "865\n",
            "866\n",
            "867\n",
            "868\n",
            "869\n",
            "870\n",
            "871\n",
            "872\n",
            "873\n",
            "874\n",
            "875\n",
            "876\n",
            "877\n",
            "878\n",
            "879\n",
            "880\n",
            "881\n",
            "882\n",
            "883\n",
            "884\n",
            "885\n",
            "886\n",
            "887\n",
            "888\n",
            "889\n",
            "890\n",
            "891\n",
            "892\n",
            "893\n",
            "894\n",
            "895\n",
            "896\n",
            "897\n",
            "898\n",
            "899\n",
            "900\n",
            "901\n",
            "902\n",
            "903\n",
            "904\n",
            "905\n",
            "906\n",
            "907\n",
            "908\n",
            "909\n",
            "910\n",
            "911\n",
            "912\n",
            "913\n",
            "914\n",
            "915\n",
            "916\n",
            "917\n",
            "918\n",
            "919\n",
            "920\n",
            "921\n",
            "922\n",
            "923\n",
            "924\n",
            "925\n",
            "926\n",
            "927\n",
            "928\n",
            "929\n",
            "930\n",
            "931\n",
            "932\n",
            "933\n",
            "934\n",
            "935\n",
            "936\n",
            "937\n",
            "938\n",
            "939\n",
            "940\n",
            "941\n",
            "942\n",
            "943\n",
            "944\n",
            "945\n",
            "946\n",
            "947\n",
            "948\n",
            "949\n",
            "950\n",
            "951\n",
            "952\n",
            "953\n",
            "954\n",
            "955\n",
            "956\n",
            "957\n",
            "958\n",
            "959\n",
            "960\n",
            "961\n",
            "962\n",
            "963\n",
            "964\n",
            "965\n",
            "966\n",
            "967\n",
            "968\n",
            "969\n",
            "970\n",
            "971\n",
            "972\n",
            "973\n",
            "974\n",
            "975\n",
            "976\n",
            "977\n",
            "978\n",
            "979\n",
            "980\n",
            "981\n",
            "982\n",
            "983\n",
            "984\n",
            "985\n",
            "986\n",
            "987\n",
            "988\n",
            "989\n",
            "990\n",
            "991\n",
            "992\n",
            "993\n",
            "994\n",
            "995\n",
            "996\n",
            "997\n",
            "998\n",
            "999\n"
          ]
        }
      ]
    },
    {
      "cell_type": "code",
      "source": [
        "#creas funciones\n",
        "#def funcion(<parametro>):\n",
        "# <code>\n",
        "# return<code>\n"
      ],
      "metadata": {
        "id": "qp9tsG0T_Ckw"
      },
      "execution_count": 276,
      "outputs": []
    },
    {
      "cell_type": "code",
      "source": [
        "def cuadrado(a):\n",
        "  cuadrado=a*a\n",
        "  return(cuadrado)\n",
        "cuadrado(9)"
      ],
      "metadata": {
        "colab": {
          "base_uri": "https://localhost:8080/"
        },
        "id": "UtEl4LoT_rsb",
        "outputId": "b22e681c-d1e5-48c0-8e1f-2c622f396a3b"
      },
      "execution_count": 278,
      "outputs": [
        {
          "output_type": "execute_result",
          "data": {
            "text/plain": [
              "81"
            ]
          },
          "metadata": {},
          "execution_count": 278
        }
      ]
    },
    {
      "cell_type": "code",
      "source": [
        "import pandas as pd\n"
      ],
      "metadata": {
        "id": "Hsh_xg5MBso5"
      },
      "execution_count": 284,
      "outputs": []
    },
    {
      "cell_type": "code",
      "source": [
        ""
      ],
      "metadata": {
        "id": "1th3wZEBCToO"
      },
      "execution_count": null,
      "outputs": []
    }
  ]
}